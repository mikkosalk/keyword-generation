{
  "nbformat": 4,
  "nbformat_minor": 0,
  "metadata": {
    "colab": {
      "name": "keyword.ipynb",
      "provenance": []
    },
    "kernelspec": {
      "name": "python3",
      "display_name": "Python 3"
    },
    "language_info": {
      "name": "python"
    }
  },
  "cells": [
    {
      "cell_type": "code",
      "metadata": {
        "colab": {
          "base_uri": "https://localhost:8080/"
        },
        "id": "5FyMyx2NKsV3",
        "outputId": "92e9e626-790d-42d5-b398-a4f4fbca199d"
      },
      "source": [
        "from html.parser import HTMLParser\n",
        "import requests\n",
        "!pip install yake\n",
        "import yake\n",
        "\n",
        "\n",
        "\n",
        "#input url to client website\n",
        "URL = \"https://www.1build.com/\"\n",
        "page = requests.get(URL)\n",
        "\n",
        "\n",
        "\n",
        "class MyHTMLParser(HTMLParser):\n",
        "    def handle_starttag(self, tag, attrs):\n",
        "        if tag == \"a\" or tag == \"p\" or tag == \"title\":\n",
        "          global parity\n",
        "          parity = True\n",
        "\n",
        "    def handle_endtag(self, tag):\n",
        "        if tag == 'a' or tag == 'p' or tag == 'title':\n",
        "          global parity\n",
        "          parity = False\n",
        "      \n",
        "    def handle_data(self, data):\n",
        "        def inSet(set, phrase):\n",
        "          for s in set:\n",
        "            if s in phrase:\n",
        "              return True\n",
        "          return False\n",
        "        global parity\n",
        "        global text\n",
        "        #Remove undesired keywords\n",
        "        blacklist = {\"view\", \"account\", \"buy\", \"login\", \"sign\", \"copywrite\", \"order\", \"search\", \"content\", \"scroll\", \"privacy policy\"}\n",
        "        if parity == True and not inSet(blacklist, data.lower()):\n",
        "            text = text + ' ' + data\n",
        "        parity = False\n",
        "        \n",
        "text = \"\"\n",
        "\n",
        "parser = MyHTMLParser()\n",
        "parser.feed(page.text)\n",
        "\n",
        "kw_extractor = yake.KeywordExtractor()\n",
        "#Change language\n",
        "language = \"en\"\n",
        "#Change length of phrase\n",
        "max_ngram_size = 3\n",
        "#Change how similar phrases can be\n",
        "deduplication_threshold = 0.9\n",
        "#Change number of outputted keywords\n",
        "numOfKeywords = 20\n",
        "custom_kw_extractor = yake.KeywordExtractor(lan=language, n=max_ngram_size, dedupLim=deduplication_threshold, top=numOfKeywords, features=None)\n",
        "keywords = custom_kw_extractor.extract_keywords(text)\n",
        "for kw in keywords:\n",
        "  print(kw)"
      ],
      "execution_count": null,
      "outputs": [
        {
          "output_type": "stream",
          "text": [
            "Requirement already satisfied: yake in /usr/local/lib/python3.7/dist-packages (0.4.8)\n",
            "Requirement already satisfied: networkx in /usr/local/lib/python3.7/dist-packages (from yake) (2.5.1)\n",
            "Requirement already satisfied: tabulate in /usr/local/lib/python3.7/dist-packages (from yake) (0.8.9)\n",
            "Requirement already satisfied: click>=6.0 in /usr/local/lib/python3.7/dist-packages (from yake) (7.1.2)\n",
            "Requirement already satisfied: jellyfish in /usr/local/lib/python3.7/dist-packages (from yake) (0.8.2)\n",
            "Requirement already satisfied: numpy in /usr/local/lib/python3.7/dist-packages (from yake) (1.19.5)\n",
            "Requirement already satisfied: segtok in /usr/local/lib/python3.7/dist-packages (from yake) (1.5.10)\n",
            "Requirement already satisfied: decorator<5,>=4.3 in /usr/local/lib/python3.7/dist-packages (from networkx->yake) (4.4.2)\n",
            "Requirement already satisfied: regex in /usr/local/lib/python3.7/dist-packages (from segtok->yake) (2019.12.20)\n",
            "('Retail Single family', 0.009076991574482624)\n",
            "('Office Retail Single', 0.014044352975333324)\n",
            "('Single family home', 0.016787050287011815)\n",
            "('on-demand cost estimating', 0.017187809719542424)\n",
            "('Single family', 0.021478328622097587)\n",
            "('Construction Estimating Services', 0.03015951989773263)\n",
            "('Concrete Electrical Interior', 0.030624993296248283)\n",
            "('Retail Single', 0.03175215859299847)\n",
            "('cost estimating service', 0.03178918666809977)\n",
            "('General Contractors Subcontractors', 0.04234049656395276)\n",
            "('win more bids', 0.04318510184469076)\n",
            "('Estimating Services', 0.045724390285632105)\n",
            "('Estimating', 0.05170945115692306)\n",
            "('Electrical Interior finishes', 0.05469682775389615)\n",
            "('Construction Estimating', 0.05526011276677946)\n",
            "('cost estimating', 0.0576544629434776)\n",
            "('Interior finishes Framing', 0.06168960751995167)\n",
            "('Electrical Interior', 0.06612741571334271)\n",
            "('REQUESTÂ AÂ DEMO', 0.06672333904333215)\n",
            "('Multi-family School General', 0.06861041185094377)\n"
          ],
          "name": "stdout"
        }
      ]
    },
    {
      "cell_type": "code",
      "metadata": {
        "id": "T2PdXapfZ_Xn"
      },
      "source": [
        ""
      ],
      "execution_count": null,
      "outputs": []
    }
  ]
}